{
 "cells": [
  {
   "cell_type": "code",
   "execution_count": 18,
   "id": "e3a43ced",
   "metadata": {},
   "outputs": [],
   "source": [
    "from matplotlib import rcParams\n",
    "rcParams['font.family'] = 'Century Gothic'\n",
    "rcParams['font.sans-serif'] = ['Tahoma']\n",
    "rcParams['font.weight'] = 'bold'\n",
    "rcParams['font.size'] = '13'"
   ]
  },
  {
   "cell_type": "code",
   "execution_count": 19,
   "id": "ef4d8575",
   "metadata": {},
   "outputs": [],
   "source": [
    "import pandas as pd\n",
    "import numpy as np\n",
    "import matplotlib.pyplot as plt"
   ]
  },
  {
   "cell_type": "code",
   "execution_count": 20,
   "id": "e9991bdc",
   "metadata": {},
   "outputs": [],
   "source": [
    "df = pd.read_csv(\"MLS.csv\",encoding='ISO-8859-1') "
   ]
  },
  {
   "cell_type": "code",
   "execution_count": 21,
   "id": "6bbf7f10",
   "metadata": {},
   "outputs": [
    {
     "data": {
      "text/plain": [
       "196"
      ]
     },
     "execution_count": 21,
     "metadata": {},
     "output_type": "execute_result"
    }
   ],
   "source": [
    "len(df['Player'])"
   ]
  },
  {
   "cell_type": "code",
   "execution_count": 27,
   "id": "b66be267",
   "metadata": {},
   "outputs": [
    {
     "data": {
      "image/png": "[encoded data removed]",
      "text/plain": [
       "<Figure size 936x576 with 1 Axes>"
      ]
     },
     "metadata": {},
     "output_type": "display_data"
    }
   ],
   "source": [
    "fig, ax = plt.subplots(figsize=(13, 8))\n",
    "fig.set_facecolor('#000')\n",
    "ax.patch.set_facecolor('#000')\n",
    "ax.xaxis.set_visible(True)\n",
    "ax.yaxis.set_visible(True)\n",
    "ax.tick_params(axis='x', colors='white')\n",
    "ax.tick_params(axis='y', colors='white')\n",
    "ax.spines['bottom'].set_color('w')\n",
    "ax.spines['left'].set_color('w')\n",
    "for i in range(len(df['Player'])):\n",
    "               if df['90s'][i] > 9.0:\n",
    "                   plt.scatter(df['Att 3rd'][i],df['Mid 3rd'][i],c='red')\n",
    "plt.show()"
   ]
  },
  {
   "cell_type": "code",
   "execution_count": null,
   "id": "392c9ec7",
   "metadata": {},
   "outputs": [],
   "source": []
  }
 ],
 "metadata": {
  "kernelspec": {
   "display_name": "Python 3 (ipykernel)",
   "language": "python",
   "name": "python3"
  },
  "language_info": {
   "codemirror_mode": {
    "name": "ipython",
    "version": 3
   },
   "file_extension": ".py",
   "mimetype": "text/x-python",
   "name": "python",
   "nbconvert_exporter": "python",
   "pygments_lexer": "ipython3",
   "version": "3.8.11"
  }
 },
 "nbformat": 4,
 "nbformat_minor": 5
}
